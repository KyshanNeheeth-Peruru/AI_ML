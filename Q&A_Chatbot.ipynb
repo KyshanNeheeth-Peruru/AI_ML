{
  "nbformat": 4,
  "nbformat_minor": 0,
  "metadata": {
    "colab": {
      "provenance": [],
      "gpuType": "T4"
    },
    "kernelspec": {
      "name": "python3",
      "display_name": "Python 3"
    },
    "language_info": {
      "name": "python"
    },
    "accelerator": "GPU"
  },
  "cells": [
    {
      "cell_type": "code",
      "execution_count": 3,
      "metadata": {
        "id": "7Kh4AdLzYTbx"
      },
      "outputs": [],
      "source": [
        "import numpy as np\n",
        "import pandas as pd\n",
        "import matplotlib.pyplot as plt\n",
        "import pickle\n",
        "from keras.preprocessing.sequence import pad_sequences\n",
        "from keras.preprocessing.text import Tokenizer\n",
        "from keras.models import Sequential, Model\n",
        "from keras.layers import Embedding\n",
        "from keras.layers import Input, Activation, Dense, Permute, Dropout\n",
        "from keras.layers import add, dot, concatenate\n",
        "from keras.layers import LSTM"
      ]
    },
    {
      "cell_type": "code",
      "source": [
        "with open('train_qa.txt', 'rb') as f:\n",
        "  train_data = pickle.load(f)"
      ],
      "metadata": {
        "id": "Tfa--9sgmXD5"
      },
      "execution_count": 4,
      "outputs": []
    },
    {
      "cell_type": "code",
      "source": [
        "with open('test_qa.txt', 'rb') as f:\n",
        "  test_data = pickle.load(f)"
      ],
      "metadata": {
        "id": "qx5OLiDhmufJ"
      },
      "execution_count": 5,
      "outputs": []
    },
    {
      "cell_type": "code",
      "source": [
        "print(len(train_data), len(test_data))"
      ],
      "metadata": {
        "colab": {
          "base_uri": "https://localhost:8080/"
        },
        "id": "eGb7Vggxm1Fd",
        "outputId": "eb26347c-30f1-45e9-b567-bd613fc1601d"
      },
      "execution_count": 6,
      "outputs": [
        {
          "output_type": "stream",
          "name": "stdout",
          "text": [
            "10000 1000\n"
          ]
        }
      ]
    },
    {
      "cell_type": "code",
      "source": [
        "#Checking data\n",
        "for i in range(5):\n",
        "  print(\" \".join(train_data[i][0]), \" \".join(train_data[i][1]), \"\".join(train_data[i][2]))"
      ],
      "metadata": {
        "colab": {
          "base_uri": "https://localhost:8080/"
        },
        "id": "dN3uxaDcnDuk",
        "outputId": "a149a0d9-c92a-4599-fdaa-5919baf9a877"
      },
      "execution_count": 7,
      "outputs": [
        {
          "output_type": "stream",
          "name": "stdout",
          "text": [
            "Mary moved to the bathroom . Sandra journeyed to the bedroom . Is Sandra in the hallway ? no\n",
            "Mary moved to the bathroom . Sandra journeyed to the bedroom . Mary went back to the bedroom . Daniel went back to the hallway . Is Daniel in the bathroom ? no\n",
            "Mary moved to the bathroom . Sandra journeyed to the bedroom . Mary went back to the bedroom . Daniel went back to the hallway . Sandra went to the kitchen . Daniel went back to the bathroom . Is Daniel in the office ? no\n",
            "Mary moved to the bathroom . Sandra journeyed to the bedroom . Mary went back to the bedroom . Daniel went back to the hallway . Sandra went to the kitchen . Daniel went back to the bathroom . Daniel picked up the football there . Daniel went to the bedroom . Is Daniel in the bedroom ? yes\n",
            "Mary moved to the bathroom . Sandra journeyed to the bedroom . Mary went back to the bedroom . Daniel went back to the hallway . Sandra went to the kitchen . Daniel went back to the bathroom . Daniel picked up the football there . Daniel went to the bedroom . John travelled to the office . Sandra went to the garden . Is Daniel in the bedroom ? yes\n"
          ]
        }
      ]
    },
    {
      "cell_type": "code",
      "source": [
        "vocab = set()\n",
        "all_data = test_data + train_data"
      ],
      "metadata": {
        "id": "04FeO-AwnDoM"
      },
      "execution_count": 8,
      "outputs": []
    },
    {
      "cell_type": "code",
      "source": [
        "for story, question , answer in all_data:\n",
        "    vocab = vocab.union(set(story))\n",
        "    vocab = vocab.union(set(question))"
      ],
      "metadata": {
        "id": "RYITdSTJnDDI"
      },
      "execution_count": 9,
      "outputs": []
    },
    {
      "cell_type": "code",
      "source": [
        "vocab"
      ],
      "metadata": {
        "colab": {
          "base_uri": "https://localhost:8080/"
        },
        "id": "2EbfDYPZnDCa",
        "outputId": "0b9b6068-f97c-41c6-d1b4-9a340aefe0a5"
      },
      "execution_count": 10,
      "outputs": [
        {
          "output_type": "execute_result",
          "data": {
            "text/plain": [
              "{'.',\n",
              " '?',\n",
              " 'Daniel',\n",
              " 'Is',\n",
              " 'John',\n",
              " 'Mary',\n",
              " 'Sandra',\n",
              " 'apple',\n",
              " 'back',\n",
              " 'bathroom',\n",
              " 'bedroom',\n",
              " 'discarded',\n",
              " 'down',\n",
              " 'dropped',\n",
              " 'football',\n",
              " 'garden',\n",
              " 'got',\n",
              " 'grabbed',\n",
              " 'hallway',\n",
              " 'in',\n",
              " 'journeyed',\n",
              " 'kitchen',\n",
              " 'left',\n",
              " 'milk',\n",
              " 'moved',\n",
              " 'office',\n",
              " 'picked',\n",
              " 'put',\n",
              " 'the',\n",
              " 'there',\n",
              " 'to',\n",
              " 'took',\n",
              " 'travelled',\n",
              " 'up',\n",
              " 'went'}"
            ]
          },
          "metadata": {},
          "execution_count": 10
        }
      ]
    },
    {
      "cell_type": "code",
      "source": [
        "\"yes\" in vocab"
      ],
      "metadata": {
        "colab": {
          "base_uri": "https://localhost:8080/"
        },
        "id": "NMJ5SryFqCH5",
        "outputId": "022adc2a-1ac9-4298-9991-e6ee9f92ede7"
      },
      "execution_count": 11,
      "outputs": [
        {
          "output_type": "execute_result",
          "data": {
            "text/plain": [
              "False"
            ]
          },
          "metadata": {},
          "execution_count": 11
        }
      ]
    },
    {
      "cell_type": "code",
      "source": [
        "\"no\" in vocab"
      ],
      "metadata": {
        "colab": {
          "base_uri": "https://localhost:8080/"
        },
        "id": "nnAttlAYqMB7",
        "outputId": "ad93035e-0bcb-4434-f2c8-311535c08e5b"
      },
      "execution_count": 12,
      "outputs": [
        {
          "output_type": "execute_result",
          "data": {
            "text/plain": [
              "False"
            ]
          },
          "metadata": {},
          "execution_count": 12
        }
      ]
    },
    {
      "cell_type": "code",
      "source": [
        "vocab.add(\"yes\")\n",
        "vocab.add(\"no\")"
      ],
      "metadata": {
        "id": "IMNKrCJHqFFR"
      },
      "execution_count": 13,
      "outputs": []
    },
    {
      "cell_type": "code",
      "source": [
        "vocab_len = len(vocab) + 1 #extra space to hold a 0 for Keras's pad_sequences"
      ],
      "metadata": {
        "id": "GXusX8RRqORs"
      },
      "execution_count": 14,
      "outputs": []
    },
    {
      "cell_type": "code",
      "source": [
        "max_story_len = max([len(data[0]) for data in all_data])"
      ],
      "metadata": {
        "id": "xljDC15CqUnL"
      },
      "execution_count": 15,
      "outputs": []
    },
    {
      "cell_type": "code",
      "source": [
        "max_question_len = max([len(data[1]) for data in all_data])"
      ],
      "metadata": {
        "id": "cLp_2TJnqXSy"
      },
      "execution_count": 16,
      "outputs": []
    },
    {
      "cell_type": "code",
      "source": [
        "print(max_story_len, max_question_len)"
      ],
      "metadata": {
        "colab": {
          "base_uri": "https://localhost:8080/"
        },
        "id": "Fypp-n96qZD6",
        "outputId": "2c4e598a-d578-47eb-db15-b2cfb4528bfd"
      },
      "execution_count": 17,
      "outputs": [
        {
          "output_type": "stream",
          "name": "stdout",
          "text": [
            "156 6\n"
          ]
        }
      ]
    },
    {
      "cell_type": "code",
      "source": [
        "tokenizer = Tokenizer(filters=[])\n",
        "tokenizer.fit_on_texts(vocab)"
      ],
      "metadata": {
        "id": "b1UOi9pBqeZd"
      },
      "execution_count": 18,
      "outputs": []
    },
    {
      "cell_type": "code",
      "source": [
        "tokenizer.word_index"
      ],
      "metadata": {
        "colab": {
          "base_uri": "https://localhost:8080/"
        },
        "id": "aLU2kxlRrDs0",
        "outputId": "7d6afc17-0267-428e-87ca-25ddc22ecd04"
      },
      "execution_count": 19,
      "outputs": [
        {
          "output_type": "execute_result",
          "data": {
            "text/plain": [
              "{'mary': 1,\n",
              " 'picked': 2,\n",
              " 'milk': 3,\n",
              " 'john': 4,\n",
              " 'took': 5,\n",
              " 'football': 6,\n",
              " 'bedroom': 7,\n",
              " 'apple': 8,\n",
              " 'yes': 9,\n",
              " 'sandra': 10,\n",
              " 'kitchen': 11,\n",
              " 'bathroom': 12,\n",
              " '.': 13,\n",
              " 'put': 14,\n",
              " 'journeyed': 15,\n",
              " 'the': 16,\n",
              " '?': 17,\n",
              " 'there': 18,\n",
              " 'got': 19,\n",
              " 'went': 20,\n",
              " 'discarded': 21,\n",
              " 'hallway': 22,\n",
              " 'left': 23,\n",
              " 'grabbed': 24,\n",
              " 'down': 25,\n",
              " 'in': 26,\n",
              " 'dropped': 27,\n",
              " 'moved': 28,\n",
              " 'garden': 29,\n",
              " 'daniel': 30,\n",
              " 'up': 31,\n",
              " 'no': 32,\n",
              " 'travelled': 33,\n",
              " 'office': 34,\n",
              " 'to': 35,\n",
              " 'back': 36,\n",
              " 'is': 37}"
            ]
          },
          "metadata": {},
          "execution_count": 19
        }
      ]
    },
    {
      "cell_type": "code",
      "source": [
        "def vectorize_stories(data, word_index=tokenizer.word_index, max_story_len=max_story_len,max_question_len=max_question_len):\n",
        "    # X = STORIES\n",
        "    X = []\n",
        "    # Xq = QUERY/QUESTION\n",
        "    Xq = []\n",
        "    # Y = CORRECT ANSWER\n",
        "    Y = []\n",
        "\n",
        "    for story, query, answer in data:\n",
        "        # Grab the word index for every word in story\n",
        "        x = [word_index[word.lower()] for word in story]\n",
        "        # Grab the word index for every word in query\n",
        "        xq = [word_index[word.lower()] for word in query]\n",
        "        # Grab the Answers (either Yes/No so we don't need to use list comprehension here)\n",
        "        # Index 0 is reserved so we're going to use + 1\n",
        "        y = np.zeros(len(word_index) + 1)\n",
        "        # Now that y is all zeros and we know its just Yes/No , we can use numpy logic to create this assignment\n",
        "        y[word_index[answer]] = 1\n",
        "        # Append each set of story,query, and answer to their respective holding lists\n",
        "        X.append(x)\n",
        "        Xq.append(xq)\n",
        "        Y.append(y)\n",
        "\n",
        "    # Finally, pad the sequences based on their max length so the RNN can be trained on uniformly long sequences.\n",
        "    return (pad_sequences(X, maxlen=max_story_len),pad_sequences(Xq, maxlen=max_question_len), np.array(Y))"
      ],
      "metadata": {
        "id": "H1S_tre1rEsS"
      },
      "execution_count": 20,
      "outputs": []
    },
    {
      "cell_type": "code",
      "source": [
        "inputs_train, queries_train, answers_train = vectorize_stories(train_data)\n",
        "inputs_test, queries_test, answers_test = vectorize_stories(test_data)"
      ],
      "metadata": {
        "id": "nbJ1R8p1rxr4"
      },
      "execution_count": 21,
      "outputs": []
    },
    {
      "cell_type": "code",
      "source": [
        "inputs_test"
      ],
      "metadata": {
        "colab": {
          "base_uri": "https://localhost:8080/"
        },
        "id": "v8WqAcz_r0oW",
        "outputId": "004ba7c4-f836-410f-fb6d-e0249652be85"
      },
      "execution_count": 22,
      "outputs": [
        {
          "output_type": "execute_result",
          "data": {
            "text/plain": [
              "array([[ 0,  0,  0, ..., 16,  7, 13],\n",
              "       [ 0,  0,  0, ..., 16, 29, 13],\n",
              "       [ 0,  0,  0, ..., 16, 29, 13],\n",
              "       ...,\n",
              "       [ 0,  0,  0, ..., 16,  8, 13],\n",
              "       [ 0,  0,  0, ..., 16, 29, 13],\n",
              "       [ 0,  0,  0, ...,  8, 18, 13]], dtype=int32)"
            ]
          },
          "metadata": {},
          "execution_count": 22
        }
      ]
    },
    {
      "cell_type": "code",
      "source": [
        "tokenizer.word_index['yes']"
      ],
      "metadata": {
        "colab": {
          "base_uri": "https://localhost:8080/"
        },
        "id": "Orok4vX-r2BD",
        "outputId": "b3ad2f68-5d14-4d10-ff8b-f2d44127286a"
      },
      "execution_count": 23,
      "outputs": [
        {
          "output_type": "execute_result",
          "data": {
            "text/plain": [
              "9"
            ]
          },
          "metadata": {},
          "execution_count": 23
        }
      ]
    },
    {
      "cell_type": "code",
      "source": [
        "tokenizer.word_index['no']"
      ],
      "metadata": {
        "colab": {
          "base_uri": "https://localhost:8080/"
        },
        "id": "-HWJa32er5Ch",
        "outputId": "c373bb5e-5476-478b-bb87-6fc7c4e660d6"
      },
      "execution_count": 24,
      "outputs": [
        {
          "output_type": "execute_result",
          "data": {
            "text/plain": [
              "32"
            ]
          },
          "metadata": {},
          "execution_count": 24
        }
      ]
    },
    {
      "cell_type": "code",
      "source": [
        "input_sequence = Input((max_story_len,))\n",
        "question = Input((max_question_len,))"
      ],
      "metadata": {
        "id": "64-2WsQKr6U4"
      },
      "execution_count": 25,
      "outputs": []
    },
    {
      "cell_type": "code",
      "source": [
        "#Input encoder m\n",
        "input_encoder_m = Sequential()\n",
        "input_encoder_m.add(Embedding(input_dim=vocab_len,output_dim=64))\n",
        "input_encoder_m.add(Dropout(0.3))"
      ],
      "metadata": {
        "id": "1kDFXITpr9wp"
      },
      "execution_count": 26,
      "outputs": []
    },
    {
      "cell_type": "code",
      "source": [
        "#Input encoder c\n",
        "input_encoder_c = Sequential()\n",
        "input_encoder_c.add(Embedding(input_dim=vocab_len,output_dim=max_question_len))\n",
        "input_encoder_c.add(Dropout(0.3))"
      ],
      "metadata": {
        "id": "uqWnlxAZsJmx"
      },
      "execution_count": 27,
      "outputs": []
    },
    {
      "cell_type": "code",
      "source": [
        "#Question encoder\n",
        "question_encoder = Sequential()\n",
        "question_encoder.add(Embedding(input_dim=vocab_len,\n",
        "                               output_dim=64,\n",
        "                               input_length=max_question_len))\n",
        "question_encoder.add(Dropout(0.3))"
      ],
      "metadata": {
        "id": "hgpB1_dEsRVq"
      },
      "execution_count": 28,
      "outputs": []
    },
    {
      "cell_type": "code",
      "source": [
        "input_encoded_m = input_encoder_m(input_sequence)\n",
        "input_encoded_c = input_encoder_c(input_sequence)\n",
        "question_encoded = question_encoder(question)"
      ],
      "metadata": {
        "id": "8it0Qeh4sV5D"
      },
      "execution_count": 29,
      "outputs": []
    },
    {
      "cell_type": "code",
      "source": [
        "match = dot([input_encoded_m, question_encoded], axes=(2, 2))\n",
        "match = Activation('softmax')(match)"
      ],
      "metadata": {
        "id": "K-rCLiqfscZ3"
      },
      "execution_count": 30,
      "outputs": []
    },
    {
      "cell_type": "code",
      "source": [
        "response = add([match, input_encoded_c])\n",
        "response = Permute((2, 1))(response)"
      ],
      "metadata": {
        "id": "SNKhHRQFseKi"
      },
      "execution_count": 31,
      "outputs": []
    },
    {
      "cell_type": "code",
      "source": [
        "answer = concatenate([response, question_encoded])"
      ],
      "metadata": {
        "id": "hoxzh3FXshbK"
      },
      "execution_count": 32,
      "outputs": []
    },
    {
      "cell_type": "code",
      "source": [
        "answer = LSTM(32)(answer)\n",
        "answer = Dropout(0.5)(answer)\n",
        "answer = Dense(vocab_len)(answer)"
      ],
      "metadata": {
        "id": "GbaAp0mFsjAE"
      },
      "execution_count": 33,
      "outputs": []
    },
    {
      "cell_type": "code",
      "source": [
        "answer = Activation('softmax')(answer)\n",
        "\n",
        "# build the final model\n",
        "model = Model([input_sequence, question], answer)\n",
        "model.compile(optimizer='rmsprop', loss='categorical_crossentropy', metrics=['accuracy'])"
      ],
      "metadata": {
        "id": "1JJc6muusrPK"
      },
      "execution_count": 34,
      "outputs": []
    },
    {
      "cell_type": "code",
      "source": [
        "model.summary()"
      ],
      "metadata": {
        "colab": {
          "base_uri": "https://localhost:8080/"
        },
        "id": "Y-WL76vZsxNx",
        "outputId": "ea439554-07f6-4bc7-fca1-f686e6a5f19a"
      },
      "execution_count": 35,
      "outputs": [
        {
          "output_type": "stream",
          "name": "stdout",
          "text": [
            "Model: \"model\"\n",
            "__________________________________________________________________________________________________\n",
            " Layer (type)                Output Shape                 Param #   Connected to                  \n",
            "==================================================================================================\n",
            " input_1 (InputLayer)        [(None, 156)]                0         []                            \n",
            "                                                                                                  \n",
            " input_2 (InputLayer)        [(None, 6)]                  0         []                            \n",
            "                                                                                                  \n",
            " sequential (Sequential)     (None, None, 64)             2432      ['input_1[0][0]']             \n",
            "                                                                                                  \n",
            " sequential_2 (Sequential)   (None, 6, 64)                2432      ['input_2[0][0]']             \n",
            "                                                                                                  \n",
            " dot (Dot)                   (None, 156, 6)               0         ['sequential[0][0]',          \n",
            "                                                                     'sequential_2[0][0]']        \n",
            "                                                                                                  \n",
            " activation (Activation)     (None, 156, 6)               0         ['dot[0][0]']                 \n",
            "                                                                                                  \n",
            " sequential_1 (Sequential)   (None, None, 6)              228       ['input_1[0][0]']             \n",
            "                                                                                                  \n",
            " add (Add)                   (None, 156, 6)               0         ['activation[0][0]',          \n",
            "                                                                     'sequential_1[0][0]']        \n",
            "                                                                                                  \n",
            " permute (Permute)           (None, 6, 156)               0         ['add[0][0]']                 \n",
            "                                                                                                  \n",
            " concatenate (Concatenate)   (None, 6, 220)               0         ['permute[0][0]',             \n",
            "                                                                     'sequential_2[0][0]']        \n",
            "                                                                                                  \n",
            " lstm (LSTM)                 (None, 32)                   32384     ['concatenate[0][0]']         \n",
            "                                                                                                  \n",
            " dropout_3 (Dropout)         (None, 32)                   0         ['lstm[0][0]']                \n",
            "                                                                                                  \n",
            " dense (Dense)               (None, 38)                   1254      ['dropout_3[0][0]']           \n",
            "                                                                                                  \n",
            " activation_1 (Activation)   (None, 38)                   0         ['dense[0][0]']               \n",
            "                                                                                                  \n",
            "==================================================================================================\n",
            "Total params: 38730 (151.29 KB)\n",
            "Trainable params: 38730 (151.29 KB)\n",
            "Non-trainable params: 0 (0.00 Byte)\n",
            "__________________________________________________________________________________________________\n"
          ]
        }
      ]
    },
    {
      "cell_type": "code",
      "source": [
        "history = model.fit([inputs_train, queries_train], answers_train,batch_size=32,epochs=100,validation_data=([inputs_test, queries_test], answers_test))"
      ],
      "metadata": {
        "colab": {
          "base_uri": "https://localhost:8080/"
        },
        "id": "5kpgGYPYsy0d",
        "outputId": "036fb40b-f59c-45b5-d390-ee18a3bcfc50"
      },
      "execution_count": 36,
      "outputs": [
        {
          "output_type": "stream",
          "name": "stdout",
          "text": [
            "Epoch 1/100\n",
            "313/313 [==============================] - 9s 13ms/step - loss: 0.9000 - accuracy: 0.5099 - val_loss: 0.7032 - val_accuracy: 0.5030\n",
            "Epoch 2/100\n",
            "313/313 [==============================] - 2s 7ms/step - loss: 0.7124 - accuracy: 0.5015 - val_loss: 0.6936 - val_accuracy: 0.5030\n",
            "Epoch 3/100\n",
            "313/313 [==============================] - 2s 6ms/step - loss: 0.6996 - accuracy: 0.4987 - val_loss: 0.6934 - val_accuracy: 0.4970\n",
            "Epoch 4/100\n",
            "313/313 [==============================] - 2s 6ms/step - loss: 0.6971 - accuracy: 0.5019 - val_loss: 0.6934 - val_accuracy: 0.5030\n",
            "Epoch 5/100\n",
            "313/313 [==============================] - 2s 6ms/step - loss: 0.6960 - accuracy: 0.4999 - val_loss: 0.6936 - val_accuracy: 0.5030\n",
            "Epoch 6/100\n",
            "313/313 [==============================] - 2s 7ms/step - loss: 0.6960 - accuracy: 0.4938 - val_loss: 0.6950 - val_accuracy: 0.5030\n",
            "Epoch 7/100\n",
            "313/313 [==============================] - 3s 8ms/step - loss: 0.6960 - accuracy: 0.4950 - val_loss: 0.6932 - val_accuracy: 0.4970\n",
            "Epoch 8/100\n",
            "313/313 [==============================] - 2s 6ms/step - loss: 0.6950 - accuracy: 0.5058 - val_loss: 0.6939 - val_accuracy: 0.4970\n",
            "Epoch 9/100\n",
            "313/313 [==============================] - 2s 6ms/step - loss: 0.6955 - accuracy: 0.4949 - val_loss: 0.6933 - val_accuracy: 0.4970\n",
            "Epoch 10/100\n",
            "313/313 [==============================] - 2s 6ms/step - loss: 0.6943 - accuracy: 0.5088 - val_loss: 0.6932 - val_accuracy: 0.5030\n",
            "Epoch 11/100\n",
            "313/313 [==============================] - 2s 6ms/step - loss: 0.6946 - accuracy: 0.5060 - val_loss: 0.6932 - val_accuracy: 0.5030\n",
            "Epoch 12/100\n",
            "313/313 [==============================] - 2s 6ms/step - loss: 0.6956 - accuracy: 0.5020 - val_loss: 0.6933 - val_accuracy: 0.5030\n",
            "Epoch 13/100\n",
            "313/313 [==============================] - 3s 9ms/step - loss: 0.6949 - accuracy: 0.4995 - val_loss: 0.6934 - val_accuracy: 0.5030\n",
            "Epoch 14/100\n",
            "313/313 [==============================] - 2s 6ms/step - loss: 0.6948 - accuracy: 0.4997 - val_loss: 0.6943 - val_accuracy: 0.4970\n",
            "Epoch 15/100\n",
            "313/313 [==============================] - 2s 6ms/step - loss: 0.6954 - accuracy: 0.4963 - val_loss: 0.6932 - val_accuracy: 0.5030\n",
            "Epoch 16/100\n",
            "313/313 [==============================] - 2s 6ms/step - loss: 0.6949 - accuracy: 0.5015 - val_loss: 0.6953 - val_accuracy: 0.4970\n",
            "Epoch 17/100\n",
            "313/313 [==============================] - 2s 6ms/step - loss: 0.6945 - accuracy: 0.5036 - val_loss: 0.6946 - val_accuracy: 0.5030\n",
            "Epoch 18/100\n",
            "313/313 [==============================] - 2s 6ms/step - loss: 0.6952 - accuracy: 0.4933 - val_loss: 0.6932 - val_accuracy: 0.5030\n",
            "Epoch 19/100\n",
            "313/313 [==============================] - 3s 8ms/step - loss: 0.6950 - accuracy: 0.5000 - val_loss: 0.6931 - val_accuracy: 0.5030\n",
            "Epoch 20/100\n",
            "313/313 [==============================] - 2s 7ms/step - loss: 0.6949 - accuracy: 0.5025 - val_loss: 0.6933 - val_accuracy: 0.4970\n",
            "Epoch 21/100\n",
            "313/313 [==============================] - 2s 6ms/step - loss: 0.6947 - accuracy: 0.5013 - val_loss: 0.6943 - val_accuracy: 0.4970\n",
            "Epoch 22/100\n",
            "313/313 [==============================] - 2s 6ms/step - loss: 0.6953 - accuracy: 0.4999 - val_loss: 0.6932 - val_accuracy: 0.5030\n",
            "Epoch 23/100\n",
            "313/313 [==============================] - 2s 6ms/step - loss: 0.6949 - accuracy: 0.4982 - val_loss: 0.6933 - val_accuracy: 0.4970\n",
            "Epoch 24/100\n",
            "313/313 [==============================] - 2s 6ms/step - loss: 0.6950 - accuracy: 0.4966 - val_loss: 0.6933 - val_accuracy: 0.5030\n",
            "Epoch 25/100\n",
            "313/313 [==============================] - 2s 7ms/step - loss: 0.6948 - accuracy: 0.4987 - val_loss: 0.6932 - val_accuracy: 0.5030\n",
            "Epoch 26/100\n",
            "313/313 [==============================] - 2s 8ms/step - loss: 0.6952 - accuracy: 0.5012 - val_loss: 0.6932 - val_accuracy: 0.5030\n",
            "Epoch 27/100\n",
            "313/313 [==============================] - 2s 6ms/step - loss: 0.6946 - accuracy: 0.5027 - val_loss: 0.6932 - val_accuracy: 0.5040\n",
            "Epoch 28/100\n",
            "313/313 [==============================] - 2s 6ms/step - loss: 0.6955 - accuracy: 0.4933 - val_loss: 0.6935 - val_accuracy: 0.4970\n",
            "Epoch 29/100\n",
            "313/313 [==============================] - 2s 6ms/step - loss: 0.6952 - accuracy: 0.4905 - val_loss: 0.6933 - val_accuracy: 0.5030\n",
            "Epoch 30/100\n",
            "313/313 [==============================] - 2s 6ms/step - loss: 0.6952 - accuracy: 0.4943 - val_loss: 0.6939 - val_accuracy: 0.4970\n",
            "Epoch 31/100\n",
            "313/313 [==============================] - 2s 6ms/step - loss: 0.6953 - accuracy: 0.5007 - val_loss: 0.6932 - val_accuracy: 0.5030\n",
            "Epoch 32/100\n",
            "313/313 [==============================] - 3s 8ms/step - loss: 0.6949 - accuracy: 0.5001 - val_loss: 0.6947 - val_accuracy: 0.4970\n",
            "Epoch 33/100\n",
            "313/313 [==============================] - 3s 8ms/step - loss: 0.6948 - accuracy: 0.4991 - val_loss: 0.6944 - val_accuracy: 0.5030\n",
            "Epoch 34/100\n",
            "313/313 [==============================] - 2s 6ms/step - loss: 0.6952 - accuracy: 0.4953 - val_loss: 0.6931 - val_accuracy: 0.5170\n",
            "Epoch 35/100\n",
            "313/313 [==============================] - 2s 6ms/step - loss: 0.6949 - accuracy: 0.5006 - val_loss: 0.6931 - val_accuracy: 0.5030\n",
            "Epoch 36/100\n",
            "313/313 [==============================] - 2s 6ms/step - loss: 0.6952 - accuracy: 0.4921 - val_loss: 0.6932 - val_accuracy: 0.5030\n",
            "Epoch 37/100\n",
            "313/313 [==============================] - 2s 7ms/step - loss: 0.6952 - accuracy: 0.4957 - val_loss: 0.6954 - val_accuracy: 0.4970\n",
            "Epoch 38/100\n",
            "313/313 [==============================] - 2s 8ms/step - loss: 0.6949 - accuracy: 0.4983 - val_loss: 0.6954 - val_accuracy: 0.4970\n",
            "Epoch 39/100\n",
            "313/313 [==============================] - 2s 6ms/step - loss: 0.6942 - accuracy: 0.5042 - val_loss: 0.6957 - val_accuracy: 0.4970\n",
            "Epoch 40/100\n",
            "313/313 [==============================] - 2s 6ms/step - loss: 0.6951 - accuracy: 0.4991 - val_loss: 0.6932 - val_accuracy: 0.4890\n",
            "Epoch 41/100\n",
            "313/313 [==============================] - 2s 6ms/step - loss: 0.6948 - accuracy: 0.5031 - val_loss: 0.6932 - val_accuracy: 0.5030\n",
            "Epoch 42/100\n",
            "313/313 [==============================] - 2s 6ms/step - loss: 0.6947 - accuracy: 0.5005 - val_loss: 0.6933 - val_accuracy: 0.4980\n",
            "Epoch 43/100\n",
            "313/313 [==============================] - 2s 7ms/step - loss: 0.6942 - accuracy: 0.5104 - val_loss: 0.6938 - val_accuracy: 0.5030\n",
            "Epoch 44/100\n",
            "313/313 [==============================] - 3s 8ms/step - loss: 0.6944 - accuracy: 0.5048 - val_loss: 0.6932 - val_accuracy: 0.4880\n",
            "Epoch 45/100\n",
            "313/313 [==============================] - 2s 6ms/step - loss: 0.6931 - accuracy: 0.5150 - val_loss: 0.6937 - val_accuracy: 0.5120\n",
            "Epoch 46/100\n",
            "313/313 [==============================] - 2s 6ms/step - loss: 0.6942 - accuracy: 0.5056 - val_loss: 0.6934 - val_accuracy: 0.5080\n",
            "Epoch 47/100\n",
            "313/313 [==============================] - 2s 6ms/step - loss: 0.6938 - accuracy: 0.5113 - val_loss: 0.6936 - val_accuracy: 0.5020\n",
            "Epoch 48/100\n",
            "313/313 [==============================] - 2s 6ms/step - loss: 0.6931 - accuracy: 0.5091 - val_loss: 0.6953 - val_accuracy: 0.4940\n",
            "Epoch 49/100\n",
            "313/313 [==============================] - 2s 6ms/step - loss: 0.6916 - accuracy: 0.5255 - val_loss: 0.6938 - val_accuracy: 0.5130\n",
            "Epoch 50/100\n",
            "313/313 [==============================] - 3s 8ms/step - loss: 0.6892 - accuracy: 0.5378 - val_loss: 0.6886 - val_accuracy: 0.5240\n",
            "Epoch 51/100\n",
            "313/313 [==============================] - 2s 6ms/step - loss: 0.6839 - accuracy: 0.5508 - val_loss: 0.6782 - val_accuracy: 0.5370\n",
            "Epoch 52/100\n",
            "313/313 [==============================] - 2s 6ms/step - loss: 0.6660 - accuracy: 0.5831 - val_loss: 0.6536 - val_accuracy: 0.6270\n",
            "Epoch 53/100\n",
            "313/313 [==============================] - 2s 6ms/step - loss: 0.6462 - accuracy: 0.6297 - val_loss: 0.6254 - val_accuracy: 0.6530\n",
            "Epoch 54/100\n",
            "313/313 [==============================] - 2s 6ms/step - loss: 0.6418 - accuracy: 0.6379 - val_loss: 0.6225 - val_accuracy: 0.6680\n",
            "Epoch 55/100\n",
            "313/313 [==============================] - 2s 6ms/step - loss: 0.6314 - accuracy: 0.6507 - val_loss: 0.6090 - val_accuracy: 0.6810\n",
            "Epoch 56/100\n",
            "313/313 [==============================] - 2s 8ms/step - loss: 0.6251 - accuracy: 0.6628 - val_loss: 0.6102 - val_accuracy: 0.6640\n",
            "Epoch 57/100\n",
            "313/313 [==============================] - 2s 7ms/step - loss: 0.6222 - accuracy: 0.6637 - val_loss: 0.6120 - val_accuracy: 0.6590\n",
            "Epoch 58/100\n",
            "313/313 [==============================] - 2s 6ms/step - loss: 0.6147 - accuracy: 0.6661 - val_loss: 0.5925 - val_accuracy: 0.6770\n",
            "Epoch 59/100\n",
            "313/313 [==============================] - 2s 6ms/step - loss: 0.6073 - accuracy: 0.6782 - val_loss: 0.5830 - val_accuracy: 0.6990\n",
            "Epoch 60/100\n",
            "313/313 [==============================] - 2s 6ms/step - loss: 0.5930 - accuracy: 0.6890 - val_loss: 0.5668 - val_accuracy: 0.7070\n",
            "Epoch 61/100\n",
            "313/313 [==============================] - 2s 6ms/step - loss: 0.5802 - accuracy: 0.7027 - val_loss: 0.5486 - val_accuracy: 0.7440\n",
            "Epoch 62/100\n",
            "313/313 [==============================] - 2s 7ms/step - loss: 0.5649 - accuracy: 0.7151 - val_loss: 0.5425 - val_accuracy: 0.7270\n",
            "Epoch 63/100\n",
            "313/313 [==============================] - 2s 8ms/step - loss: 0.5515 - accuracy: 0.7251 - val_loss: 0.5309 - val_accuracy: 0.7410\n",
            "Epoch 64/100\n",
            "313/313 [==============================] - 2s 6ms/step - loss: 0.5398 - accuracy: 0.7371 - val_loss: 0.5213 - val_accuracy: 0.7620\n",
            "Epoch 65/100\n",
            "313/313 [==============================] - 2s 6ms/step - loss: 0.5385 - accuracy: 0.7411 - val_loss: 0.5402 - val_accuracy: 0.7280\n",
            "Epoch 66/100\n",
            "313/313 [==============================] - 2s 6ms/step - loss: 0.5243 - accuracy: 0.7482 - val_loss: 0.5057 - val_accuracy: 0.7660\n",
            "Epoch 67/100\n",
            "313/313 [==============================] - 2s 6ms/step - loss: 0.5131 - accuracy: 0.7567 - val_loss: 0.4911 - val_accuracy: 0.7800\n",
            "Epoch 68/100\n",
            "313/313 [==============================] - 2s 7ms/step - loss: 0.5087 - accuracy: 0.7601 - val_loss: 0.5026 - val_accuracy: 0.7680\n",
            "Epoch 69/100\n",
            "313/313 [==============================] - 3s 8ms/step - loss: 0.5014 - accuracy: 0.7685 - val_loss: 0.4972 - val_accuracy: 0.7530\n",
            "Epoch 70/100\n",
            "313/313 [==============================] - 2s 6ms/step - loss: 0.4908 - accuracy: 0.7752 - val_loss: 0.4719 - val_accuracy: 0.7840\n",
            "Epoch 71/100\n",
            "313/313 [==============================] - 2s 6ms/step - loss: 0.4774 - accuracy: 0.7832 - val_loss: 0.4663 - val_accuracy: 0.7940\n",
            "Epoch 72/100\n",
            "313/313 [==============================] - 2s 6ms/step - loss: 0.4719 - accuracy: 0.7919 - val_loss: 0.4477 - val_accuracy: 0.8010\n",
            "Epoch 73/100\n",
            "313/313 [==============================] - 2s 6ms/step - loss: 0.4570 - accuracy: 0.7997 - val_loss: 0.4539 - val_accuracy: 0.8020\n",
            "Epoch 74/100\n",
            "313/313 [==============================] - 2s 7ms/step - loss: 0.4436 - accuracy: 0.8062 - val_loss: 0.4230 - val_accuracy: 0.8210\n",
            "Epoch 75/100\n",
            "313/313 [==============================] - 3s 9ms/step - loss: 0.4248 - accuracy: 0.8191 - val_loss: 0.4222 - val_accuracy: 0.8170\n",
            "Epoch 76/100\n",
            "313/313 [==============================] - 2s 6ms/step - loss: 0.4240 - accuracy: 0.8173 - val_loss: 0.4264 - val_accuracy: 0.8240\n",
            "Epoch 77/100\n",
            "313/313 [==============================] - 2s 6ms/step - loss: 0.4116 - accuracy: 0.8226 - val_loss: 0.4229 - val_accuracy: 0.8130\n",
            "Epoch 78/100\n",
            "313/313 [==============================] - 2s 6ms/step - loss: 0.4064 - accuracy: 0.8272 - val_loss: 0.4021 - val_accuracy: 0.8290\n",
            "Epoch 79/100\n",
            "313/313 [==============================] - 2s 6ms/step - loss: 0.3987 - accuracy: 0.8285 - val_loss: 0.4102 - val_accuracy: 0.8150\n",
            "Epoch 80/100\n",
            "313/313 [==============================] - 2s 6ms/step - loss: 0.3966 - accuracy: 0.8314 - val_loss: 0.4059 - val_accuracy: 0.8110\n",
            "Epoch 81/100\n",
            "313/313 [==============================] - 3s 9ms/step - loss: 0.3884 - accuracy: 0.8320 - val_loss: 0.4017 - val_accuracy: 0.8270\n",
            "Epoch 82/100\n",
            "313/313 [==============================] - 2s 7ms/step - loss: 0.3882 - accuracy: 0.8347 - val_loss: 0.3915 - val_accuracy: 0.8270\n",
            "Epoch 83/100\n",
            "313/313 [==============================] - 2s 6ms/step - loss: 0.3819 - accuracy: 0.8393 - val_loss: 0.3898 - val_accuracy: 0.8240\n",
            "Epoch 84/100\n",
            "313/313 [==============================] - 2s 6ms/step - loss: 0.3833 - accuracy: 0.8409 - val_loss: 0.4202 - val_accuracy: 0.8230\n",
            "Epoch 85/100\n",
            "313/313 [==============================] - 2s 6ms/step - loss: 0.3822 - accuracy: 0.8384 - val_loss: 0.4083 - val_accuracy: 0.8260\n",
            "Epoch 86/100\n",
            "313/313 [==============================] - 2s 6ms/step - loss: 0.3717 - accuracy: 0.8436 - val_loss: 0.4003 - val_accuracy: 0.8170\n",
            "Epoch 87/100\n",
            "313/313 [==============================] - 3s 8ms/step - loss: 0.3735 - accuracy: 0.8419 - val_loss: 0.3924 - val_accuracy: 0.8190\n",
            "Epoch 88/100\n",
            "313/313 [==============================] - 2s 7ms/step - loss: 0.3659 - accuracy: 0.8473 - val_loss: 0.4110 - val_accuracy: 0.8210\n",
            "Epoch 89/100\n",
            "313/313 [==============================] - 2s 6ms/step - loss: 0.3599 - accuracy: 0.8483 - val_loss: 0.3944 - val_accuracy: 0.8310\n",
            "Epoch 90/100\n",
            "313/313 [==============================] - 2s 6ms/step - loss: 0.3634 - accuracy: 0.8445 - val_loss: 0.4045 - val_accuracy: 0.8170\n",
            "Epoch 91/100\n",
            "313/313 [==============================] - 2s 6ms/step - loss: 0.3613 - accuracy: 0.8497 - val_loss: 0.3923 - val_accuracy: 0.8280\n",
            "Epoch 92/100\n",
            "313/313 [==============================] - 2s 6ms/step - loss: 0.3530 - accuracy: 0.8489 - val_loss: 0.4166 - val_accuracy: 0.8100\n",
            "Epoch 93/100\n",
            "313/313 [==============================] - 2s 7ms/step - loss: 0.3545 - accuracy: 0.8496 - val_loss: 0.3856 - val_accuracy: 0.8220\n",
            "Epoch 94/100\n",
            "313/313 [==============================] - 2s 7ms/step - loss: 0.3566 - accuracy: 0.8485 - val_loss: 0.3992 - val_accuracy: 0.8180\n",
            "Epoch 95/100\n",
            "313/313 [==============================] - 2s 6ms/step - loss: 0.3492 - accuracy: 0.8524 - val_loss: 0.3968 - val_accuracy: 0.8310\n",
            "Epoch 96/100\n",
            "313/313 [==============================] - 2s 6ms/step - loss: 0.3477 - accuracy: 0.8527 - val_loss: 0.4152 - val_accuracy: 0.8090\n",
            "Epoch 97/100\n",
            "313/313 [==============================] - 2s 6ms/step - loss: 0.3467 - accuracy: 0.8538 - val_loss: 0.4157 - val_accuracy: 0.8260\n",
            "Epoch 98/100\n",
            "313/313 [==============================] - 2s 6ms/step - loss: 0.3488 - accuracy: 0.8542 - val_loss: 0.4193 - val_accuracy: 0.8050\n",
            "Epoch 99/100\n",
            "313/313 [==============================] - 2s 7ms/step - loss: 0.3500 - accuracy: 0.8511 - val_loss: 0.3994 - val_accuracy: 0.8240\n",
            "Epoch 100/100\n",
            "313/313 [==============================] - 2s 8ms/step - loss: 0.3388 - accuracy: 0.8520 - val_loss: 0.4158 - val_accuracy: 0.8260\n"
          ]
        }
      ]
    },
    {
      "cell_type": "code",
      "source": [
        "filename = 'QAchatbot'\n",
        "model.save(filename)"
      ],
      "metadata": {
        "id": "kLUC0lfdvlG2"
      },
      "execution_count": 37,
      "outputs": []
    },
    {
      "cell_type": "code",
      "source": [
        "plt.plot(history.history['accuracy'])\n",
        "plt.plot(history.history['val_accuracy'])\n",
        "plt.title('model accuracy')\n",
        "plt.ylabel('accuracy')\n",
        "plt.xlabel('epoch')\n",
        "plt.legend(['train', 'test'], loc='upper left')\n",
        "plt.show()"
      ],
      "metadata": {
        "colab": {
          "base_uri": "https://localhost:8080/",
          "height": 472
        },
        "id": "Uf2uhbIWs3ni",
        "outputId": "42f3faf5-3d8b-49ef-c021-765d36492c2e"
      },
      "execution_count": 38,
      "outputs": [
        {
          "output_type": "display_data",
          "data": {
            "text/plain": [
              "<Figure size 640x480 with 1 Axes>"
            ],
            "image/png": "[encoded data removed]"
          },
          "metadata": {}
        }
      ]
    },
    {
      "cell_type": "code",
      "source": [
        "model.load_weights(filename)\n",
        "pred_results = model.predict(([inputs_test, queries_test]))"
      ],
      "metadata": {
        "colab": {
          "base_uri": "https://localhost:8080/"
        },
        "id": "_Lu5-75YvAWc",
        "outputId": "660bb31e-e263-4015-f9f7-cbadc13d2bd9"
      },
      "execution_count": 39,
      "outputs": [
        {
          "output_type": "stream",
          "name": "stdout",
          "text": [
            "32/32 [==============================] - 0s 2ms/step\n"
          ]
        }
      ]
    },
    {
      "cell_type": "code",
      "source": [
        "story =' '.join(word for word in test_data[0][0])\n",
        "print(story)\n",
        "query = ' '.join(word for word in test_data[0][1])\n",
        "print(query)"
      ],
      "metadata": {
        "colab": {
          "base_uri": "https://localhost:8080/"
        },
        "id": "UVIs2SfwvZSb",
        "outputId": "f000c799-9971-4397-d8ca-8fc319d46d85"
      },
      "execution_count": 40,
      "outputs": [
        {
          "output_type": "stream",
          "name": "stdout",
          "text": [
            "Mary got the milk there . John moved to the bedroom .\n",
            "Is John in the kitchen ?\n"
          ]
        }
      ]
    },
    {
      "cell_type": "code",
      "source": [
        "print(\"Answer from Data is:\",test_data[0][2])"
      ],
      "metadata": {
        "colab": {
          "base_uri": "https://localhost:8080/"
        },
        "id": "XDeYyWGdvtVW",
        "outputId": "f577bedb-4c7b-4b07-8a4f-5f03cee2e61f"
      },
      "execution_count": 41,
      "outputs": [
        {
          "output_type": "stream",
          "name": "stdout",
          "text": [
            "Answer from Data is: no\n"
          ]
        }
      ]
    },
    {
      "cell_type": "code",
      "source": [
        "val_max = np.argmax(pred_results[0])\n",
        "\n",
        "for key, val in tokenizer.word_index.items():\n",
        "    if val == val_max:\n",
        "        k = key\n",
        "\n",
        "print(\"Predicted answer is: \", k)\n",
        "print(\"Probability of certainty was: \", pred_results[0][val_max])"
      ],
      "metadata": {
        "colab": {
          "base_uri": "https://localhost:8080/"
        },
        "id": "0n1BHsatv2O1",
        "outputId": "fc689e03-ef56-4d24-f6d1-7ebaba9e606f"
      },
      "execution_count": 42,
      "outputs": [
        {
          "output_type": "stream",
          "name": "stdout",
          "text": [
            "Predicted answer is:  no\n",
            "Probability of certainty was:  0.9810791\n"
          ]
        }
      ]
    },
    {
      "cell_type": "code",
      "source": [
        "vocab"
      ],
      "metadata": {
        "colab": {
          "base_uri": "https://localhost:8080/"
        },
        "id": "U5ZTtcdfwGBr",
        "outputId": "24509bfc-ba45-4161-95dd-5ae975cc1133"
      },
      "execution_count": 43,
      "outputs": [
        {
          "output_type": "execute_result",
          "data": {
            "text/plain": [
              "{'.',\n",
              " '?',\n",
              " 'Daniel',\n",
              " 'Is',\n",
              " 'John',\n",
              " 'Mary',\n",
              " 'Sandra',\n",
              " 'apple',\n",
              " 'back',\n",
              " 'bathroom',\n",
              " 'bedroom',\n",
              " 'discarded',\n",
              " 'down',\n",
              " 'dropped',\n",
              " 'football',\n",
              " 'garden',\n",
              " 'got',\n",
              " 'grabbed',\n",
              " 'hallway',\n",
              " 'in',\n",
              " 'journeyed',\n",
              " 'kitchen',\n",
              " 'left',\n",
              " 'milk',\n",
              " 'moved',\n",
              " 'no',\n",
              " 'office',\n",
              " 'picked',\n",
              " 'put',\n",
              " 'the',\n",
              " 'there',\n",
              " 'to',\n",
              " 'took',\n",
              " 'travelled',\n",
              " 'up',\n",
              " 'went',\n",
              " 'yes'}"
            ]
          },
          "metadata": {},
          "execution_count": 43
        }
      ]
    },
    {
      "cell_type": "code",
      "source": [
        "my_story = \"John left the kitchen . Sandra dropped the football in the garden .\"\n",
        "my_story.split()\n",
        "my_question = \"Is the football in the garden ?\"\n",
        "my_question.split()"
      ],
      "metadata": {
        "colab": {
          "base_uri": "https://localhost:8080/"
        },
        "id": "36im0lL0v597",
        "outputId": "5ef006cd-f95b-46b3-c430-e5a62290b21c"
      },
      "execution_count": 44,
      "outputs": [
        {
          "output_type": "execute_result",
          "data": {
            "text/plain": [
              "['Is', 'the', 'football', 'in', 'the', 'garden', '?']"
            ]
          },
          "metadata": {},
          "execution_count": 44
        }
      ]
    },
    {
      "cell_type": "code",
      "source": [
        "mydata = [(my_story.split(),my_question.split(),'yes')]\n",
        "my_story,my_ques,my_ans = vectorize_stories(mydata)\n",
        "pred_results = model.predict(([ my_story, my_ques]))"
      ],
      "metadata": {
        "colab": {
          "base_uri": "https://localhost:8080/"
        },
        "id": "Fz6_-fOEwJvy",
        "outputId": "0516a34b-adab-4c36-a292-74dd99d3f2b9"
      },
      "execution_count": 45,
      "outputs": [
        {
          "output_type": "stream",
          "name": "stdout",
          "text": [
            "1/1 [==============================] - 0s 79ms/step\n"
          ]
        }
      ]
    },
    {
      "cell_type": "code",
      "source": [
        "#Using it on my data\n",
        "val_max = np.argmax(pred_results[0])\n",
        "\n",
        "for key, val in tokenizer.word_index.items():\n",
        "    if val == val_max:\n",
        "        k = key\n",
        "\n",
        "print(\"Predicted answer is: \", k)\n",
        "print(\"Probability of certainty was: \", pred_results[0][val_max])"
      ],
      "metadata": {
        "colab": {
          "base_uri": "https://localhost:8080/"
        },
        "id": "xgHsAW9XwPwE",
        "outputId": "e5210764-e542-44e4-c98d-ddb180892215"
      },
      "execution_count": 46,
      "outputs": [
        {
          "output_type": "stream",
          "name": "stdout",
          "text": [
            "Predicted answer is:  yes\n",
            "Probability of certainty was:  0.9777002\n"
          ]
        }
      ]
    }
  ]
}